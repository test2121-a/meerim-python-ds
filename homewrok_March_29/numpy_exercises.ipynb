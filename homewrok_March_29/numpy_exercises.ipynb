{
 "cells": [
  {
   "cell_type": "code",
   "execution_count": null,
   "metadata": {},
   "outputs": [],
   "source": [
    "import numpy as np\n",
    "\n",
    "matrix = np.array([[1, 2, 3],\n",
    "                   [4, 5, 6],\n",
    "                   [7, 8, 9]])"
   ]
  },
  {
   "cell_type": "code",
   "execution_count": 9,
   "metadata": {},
   "outputs": [
    {
     "name": "stdout",
     "output_type": "stream",
     "text": [
      "array([12, 15, 18])\n"
     ]
    }
   ],
   "source": [
    "# Print the sum of elements of each column a in matrix\n",
    "\n",
    "sums = []\n",
    "for i in range(len(matrix[0])):\n",
    "    sum = 0\n",
    "    for j in range(len(matrix)):\n",
    "        sum += matrix[j][i]\n",
    "    sums.append(sum)\n",
    "\n",
    "print(\"array(\" + str(sums) + \")\")\n"
   ]
  },
  {
   "cell_type": "code",
   "execution_count": 11,
   "metadata": {},
   "outputs": [
    {
     "name": "stdout",
     "output_type": "stream",
     "text": [
      "array([6, 15, 24])\n"
     ]
    }
   ],
   "source": [
    "# Print the sum of elements of each row a in matrix\n",
    "\n",
    "sums = []\n",
    "for i in range(len(matrix)):\n",
    "    sum = 0\n",
    "    for j in range(len(matrix[0])):\n",
    "        sum += matrix[i][j]\n",
    "    sums.append(sum)\n",
    "\n",
    "print(\"array(\" + str(sums) + \")\")"
   ]
  }
 ],
 "metadata": {
  "kernelspec": {
   "display_name": "Python 3.11.2 64-bit",
   "language": "python",
   "name": "python3"
  },
  "language_info": {
   "codemirror_mode": {
    "name": "ipython",
    "version": 3
   },
   "file_extension": ".py",
   "mimetype": "text/x-python",
   "name": "python",
   "nbconvert_exporter": "python",
   "pygments_lexer": "ipython3",
   "version": "3.11.2"
  },
  "orig_nbformat": 4,
  "vscode": {
   "interpreter": {
    "hash": "ebfc0a8d552866b0d59eba665220a57de3bc06f3ac643b8bef38dd8f66781fdd"
   }
  }
 },
 "nbformat": 4,
 "nbformat_minor": 2
}
