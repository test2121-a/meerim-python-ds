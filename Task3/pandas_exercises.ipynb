{
 "cells": [
  {
   "cell_type": "code",
   "execution_count": null,
   "metadata": {},
   "outputs": [],
   "source": [
    "import numpy as np\n",
    "import pandas as pd\n",
    "from matplotlib import pyplot as pyplot\n",
    "import seaborn as sbn"
   ]
  },
  {
   "cell_type": "code",
   "execution_count": 5,
   "metadata": {},
   "outputs": [
    {
     "name": "stdout",
     "output_type": "stream",
     "text": [
      "[0, 0, 0, 0, 0, 0, 0, 0, 0, 0]\n"
     ]
    }
   ],
   "source": [
    "# 1. Create a null vector of size 10 (★☆☆)\n",
    "\n",
    "ar = []\n",
    "for i in range(0, 10):\n",
    "    ar.append(0)\n",
    "\n",
    "\n",
    "print(ar)"
   ]
  },
  {
   "cell_type": "code",
   "execution_count": 3,
   "metadata": {},
   "outputs": [
    {
     "name": "stdout",
     "output_type": "stream",
     "text": [
      "[10, 11, 12, 13, 14, 15, 16, 17, 18, 19, 20, 21, 22, 23, 24, 25, 26, 27, 28, 29, 30, 31, 32, 33, 34, 35, 36, 37, 38, 39, 40, 41, 42, 43, 44, 45, 46, 47, 48, 49]\n"
     ]
    }
   ],
   "source": [
    "# 2. Create a vector with values ranging from 10 to 49 (★☆☆)\n",
    "\n",
    "ar = []\n",
    "for i in range(10, 50):\n",
    "    ar.append(i)\n",
    "\n",
    "print(ar)"
   ]
  },
  {
   "cell_type": "code",
   "execution_count": 14,
   "metadata": {},
   "outputs": [
    {
     "name": "stdout",
     "output_type": "stream",
     "text": [
      "[[0, 1, 2], [3, 4, 5], [6, 7, 8]]\n"
     ]
    }
   ],
   "source": [
    "# 3. Create a 3x3 matrix with values ranging from 0 to 8 (★☆☆)\n",
    "\n",
    "matrix = []\n",
    "val = 0\n",
    "\n",
    "for i in range(0, 3):\n",
    "    row = []\n",
    "    for j in range(0, 3):\n",
    "        row.append(val)\n",
    "        val += 1\n",
    "\n",
    "    matrix.append(row)\n",
    "\n",
    "print(matrix)\n"
   ]
  },
  {
   "cell_type": "code",
   "execution_count": 28,
   "metadata": {},
   "outputs": [
    {
     "name": "stdout",
     "output_type": "stream",
     "text": [
      "[[0.37576022 0.31182032 0.22547784 0.7474415  0.1061936  0.59147845\n",
      "  0.34346771 0.19109138 0.91337599 0.45259487]\n",
      " [0.82214529 0.81659165 0.14764339 0.22387938 0.95495456 0.23630054\n",
      "  0.87327741 0.38747001 0.04739816 0.75910056]\n",
      " [0.5907508  0.49396761 0.31440329 0.01876107 0.0108756  0.99675738\n",
      "  0.81453254 0.86590706 0.65637885 0.73577485]\n",
      " [0.31322849 0.12686125 0.79957134 0.313241   0.69566485 0.9994201\n",
      "  0.92244536 0.70913991 0.31771456 0.09615074]\n",
      " [0.50918871 0.46398112 0.19412994 0.77269486 0.10755396 0.63378819\n",
      "  0.67867817 0.43389319 0.76419119 0.37063209]\n",
      " [0.06961882 0.42643909 0.23212287 0.62545988 0.34084738 0.54516658\n",
      "  0.94384835 0.34384798 0.53876274 0.91200229]\n",
      " [0.2420045  0.3592615  0.12551457 0.27716501 0.39853388 0.70638785\n",
      "  0.49339527 0.12941899 0.37418485 0.75133902]\n",
      " [0.27514456 0.19926879 0.96225811 0.53701117 0.31197643 0.81999541\n",
      "  0.10360923 0.11522713 0.41166165 0.27631641]\n",
      " [0.15439844 0.66745695 0.32067253 0.48716282 0.17236279 0.72100803\n",
      "  0.36733987 0.74976519 0.71567535 0.09821476]\n",
      " [0.15072095 0.00677689 0.15742592 0.45106877 0.27084732 0.62574707\n",
      "  0.81815809 0.64815391 0.46706145 0.67685905]]\n",
      "min = 0.006776887192202818 max = 0.9994201022067567\n"
     ]
    }
   ],
   "source": [
    "# 4. Create a 10x10 array with random values and find the minimum and maximum values (★☆☆)\n",
    "import numpy as np\n",
    "\n",
    "matrix = []\n",
    "\n",
    "for i in range(0, 10):\n",
    "    row = []\n",
    "    for j in range(0, 10):\n",
    "        \n",
    "        row.append(np.random.random())\n",
    "\n",
    "    matrix.append(row)\n",
    "\n",
    "matr = np.array(matrix)\n",
    "print(matr)\n",
    "\n",
    "print(\"min = \" + str(matr.min()), \"max = \" + str(matr.max()))"
   ]
  },
  {
   "cell_type": "code",
   "execution_count": 104,
   "metadata": {},
   "outputs": [
    {
     "name": "stdout",
     "output_type": "stream",
     "text": [
      "[[1, 0, 0, 0], [0, 2, 0, 0], [0, 0, 3, 0], [0, 0, 0, 4], [0, 0, 0, 0]]\n"
     ]
    }
   ],
   "source": [
    "# 5. Create the given matrix: (★☆☆)\n",
    "\n",
    "matrix = []\n",
    "\n",
    "for i in range(0, 5):\n",
    "    row = []\n",
    "    for j in range(0, 4):\n",
    "        if i == j:\n",
    "            row.append(i + 1)\n",
    "        else:\n",
    "            row.append(0)\n",
    "\n",
    "    matrix.append(row)\n",
    "\n",
    "print(matrix)"
   ]
  },
  {
   "cell_type": "code",
   "execution_count": 19,
   "metadata": {},
   "outputs": [
    {
     "name": "stdout",
     "output_type": "stream",
     "text": [
      "[[37. 95. 73. 60. 16. 16.  6.]\n",
      " [87. 60. 71.  2. 97. 83. 21.]\n",
      " [18. 18. 30. 52. 43. 29. 61.]\n",
      " [14. 29. 37. 46. 79. 20. 51.]\n",
      " [59.  5. 61. 17.  7. 95. 97.]\n",
      " [81. 30. 10. 68. 44. 12. 50.]\n",
      " [ 3. 91. 26. 66. 31. 52. 55.]\n",
      " [18. 97. 78. 94. 89. 60. 92.]\n",
      " [ 9. 20.  5. 33. 39. 27. 83.]]\n"
     ]
    }
   ],
   "source": [
    "# Run the code below to get the matrix for the tasks from 6 to 10:\n",
    "np.random.seed(42)\n",
    "\n",
    "matrix = np.random.uniform(low = 0, high = 100, size = (9, 7))\n",
    "matrix = np.round(matrix, 0)\n",
    "\n",
    "print(matrix)"
   ]
  },
  {
   "cell_type": "code",
   "execution_count": 124,
   "metadata": {},
   "outputs": [
    {
     "name": "stdout",
     "output_type": "stream",
     "text": [
      "[37. 95. 73. 60. 16. 16.  6.]\n",
      "[ 9. 20.  5. 33. 39. 27. 83.]\n"
     ]
    }
   ],
   "source": [
    "# 6. Print the first and the last row with one slice operation  (★☆☆)\n",
    "\n",
    "print(matrix[0])\n",
    "print(matrix[-1])"
   ]
  },
  {
   "cell_type": "code",
   "execution_count": 12,
   "metadata": {},
   "outputs": [
    {
     "name": "stdout",
     "output_type": "stream",
     "text": [
      "[6, 3, 1, 4, 0, 0, 2]\n"
     ]
    }
   ],
   "source": [
    "# 7. Print all elements less than 10  (★☆☆)\n",
    "\n",
    "ar = []\n",
    "\n",
    "for i in range(len(matrix)):\n",
    "    for j in range(len(matrix[i])):\n",
    "        if matrix[i][j] < 10.0:\n",
    "            ar.append(j)\n",
    "\n",
    "print(ar)"
   ]
  },
  {
   "cell_type": "code",
   "execution_count": 14,
   "metadata": {},
   "outputs": [
    {
     "name": "stdout",
     "output_type": "stream",
     "text": [
      "[37. 95. 73. 60. 16. 16.  6.]\n",
      "[18. 18. 30. 52. 43. 29. 61.]\n",
      "[59.  5. 61. 17.  7. 95. 97.]\n",
      "[ 3. 91. 26. 66. 31. 52. 55.]\n",
      "[ 9. 20.  5. 33. 39. 27. 83.]\n"
     ]
    }
   ],
   "source": [
    "for i in range(len(matrix)):\n",
    "    if i % 2 == 0:\n",
    "        print(matrix[i])"
   ]
  },
  {
   "cell_type": "code",
   "execution_count": 15,
   "metadata": {},
   "outputs": [
    {
     "name": "stdout",
     "output_type": "stream",
     "text": [
      "[87. 60. 71.  2. 97. 83. 21.]\n",
      "[14. 29. 37. 46. 79. 20. 51.]\n",
      "[81. 30. 10. 68. 44. 12. 50.]\n",
      "[18. 97. 78. 94. 89. 60. 92.]\n"
     ]
    }
   ],
   "source": [
    "for i in range(len(matrix)):\n",
    "    if i % 2 != 0:\n",
    "        print(matrix[i])"
   ]
  },
  {
   "cell_type": "code",
   "execution_count": 17,
   "metadata": {},
   "outputs": [
    {
     "name": "stdout",
     "output_type": "stream",
     "text": [
      "[[37. 95. 73. 60. 16. 16.  6.]\n",
      " [87. 60. 71.  2. 97. 83. 21.]\n",
      " [18. 18. 30. 52. 43. 29. 61.]\n",
      " [14. 29. 37. 46. 79. 20. 51.]\n",
      " [59.  5. 61. 17.  7. 95. 97.]\n",
      " [81. 30. 10. 68. 44. 12. 50.]\n",
      " [ 3. 91. 26. 66. 31. 52. 55.]\n",
      " [18. 97. 78. 94. 89. 60. 92.]\n",
      " [ 9. 20.  5. 33. 39. 27. 83.]]\n"
     ]
    }
   ],
   "source": [
    "M2 = matrix"
   ]
  },
  {
   "cell_type": "code",
   "execution_count": 23,
   "metadata": {},
   "outputs": [
    {
     "name": "stdout",
     "output_type": "stream",
     "text": [
      "[43.285714285714285, 60.142857142857146, 35.857142857142854, 39.42857142857143, 48.714285714285715, 42.142857142857146, 46.285714285714285, 75.42857142857143, 30.857142857142858]\n"
     ]
    }
   ],
   "source": [
    "ar = []\n",
    "\n",
    "for i in range(len(matrix)):\n",
    "    sum = 0\n",
    "    for j in range(len(matrix[i])):\n",
    "        sum += matrix[i][j]\n",
    "\n",
    "    ar.append(sum / 7)\n",
    "\n",
    "print(ar)"
   ]
  },
  {
   "cell_type": "code",
   "execution_count": 25,
   "metadata": {},
   "outputs": [
    {
     "name": "stdout",
     "output_type": "stream",
     "text": [
      "[[5, 5, 5, 5, 5], [5, 5, 5, 5, 5], [5, 5, 5, 5, 5]]\n"
     ]
    }
   ],
   "source": [
    "ar = []\n",
    "\n",
    "for i in range(3):\n",
    "    row = []\n",
    "    for j in range(5):\n",
    "        row.append(5)\n",
    "    ar.append(row)\n",
    "print(ar)"
   ]
  },
  {
   "cell_type": "code",
   "execution_count": 35,
   "metadata": {},
   "outputs": [
    {
     "name": "stdout",
     "output_type": "stream",
     "text": [
      "[[400, 1521, 1089], [625, 625, 784]]\n"
     ]
    }
   ],
   "source": [
    "arrayOne = np.array([[5, 6, 9], [21 ,18, 27]])\n",
    "arrayTwo = np.array([[15 ,33, 24], [4 ,7, 1]])\n",
    "arr = []\n",
    "for i in range(2):\n",
    "    ar = []\n",
    "    for j in range(3):\n",
    "        ar.append((arrayOne[i][j] + arrayTwo[i][j]) ** 2)\n",
    "\n",
    "    arr.append(ar)\n",
    "\n",
    "print(arr)"
   ]
  },
  {
   "cell_type": "code",
   "execution_count": 63,
   "metadata": {},
   "outputs": [
    {
     "name": "stdout",
     "output_type": "stream",
     "text": [
      "                       Name Platform  Year_of_Release         Genre Publisher  \\\n",
      "0                Wii Sports      Wii           2006.0        Sports  Nintendo   \n",
      "1         Super Mario Bros.      NES           1985.0      Platform  Nintendo   \n",
      "2            Mario Kart Wii      Wii           2008.0        Racing  Nintendo   \n",
      "3         Wii Sports Resort      Wii           2009.0        Sports  Nintendo   \n",
      "4  Pokemon Red/Pokemon Blue       GB           1996.0  Role-Playing  Nintendo   \n",
      "\n",
      "   NA_Sales  EU_Sales  JP_Sales  Other_Sales  Global_Sales  Critic_Score  \\\n",
      "0     41.36     28.96      3.77         8.45         82.53          76.0   \n",
      "1     29.08      3.58      6.81         0.77         40.24           NaN   \n",
      "2     15.68     12.76      3.79         3.29         35.52          82.0   \n",
      "3     15.61     10.93      3.28         2.95         32.77          80.0   \n",
      "4     11.27      8.89     10.22         1.00         31.37           NaN   \n",
      "\n",
      "   Critic_Count User_Score  User_Count Developer Rating  \n",
      "0          51.0          8       322.0  Nintendo      E  \n",
      "1           NaN        NaN         NaN       NaN    NaN  \n",
      "2          73.0        8.3       709.0  Nintendo      E  \n",
      "3          73.0          8       192.0  Nintendo      E  \n",
      "4           NaN        NaN         NaN       NaN    NaN  \n"
     ]
    }
   ],
   "source": [
    "df = pd.read_csv('/home/sanarip03/Downloads/video_games_sales.csv')\n",
    "df1 = df.head(5)\n",
    "print(df1)"
   ]
  },
  {
   "cell_type": "code",
   "execution_count": null,
   "metadata": {},
   "outputs": [],
   "source": [
    "for col in df.columns:\n",
    "\tprint(col)"
   ]
  },
  {
   "cell_type": "code",
   "execution_count": 72,
   "metadata": {},
   "outputs": [
    {
     "name": "stdout",
     "output_type": "stream",
     "text": [
      "                 Name Platform  Year_of_Release     Genre   Publisher  \\\n",
      "262         Asteroids     2600           1980.0   Shooter       Atari   \n",
      "5360          Freeway     2600           1980.0    Action  Activision   \n",
      "546   Missile Command     2600           1980.0   Shooter       Atari   \n",
      "2650           Boxing     2600           1980.0  Fighting  Activision   \n",
      "4019       Ice Hockey     2600           1980.0    Sports  Activision   \n",
      "\n",
      "      NA_Sales  EU_Sales  JP_Sales  Other_Sales  Global_Sales  Critic_Score  \\\n",
      "262       4.00      0.26       0.0         0.05          4.31           NaN   \n",
      "5360      0.32      0.02       0.0         0.00          0.34           NaN   \n",
      "546       2.56      0.17       0.0         0.03          2.76           NaN   \n",
      "2650      0.72      0.04       0.0         0.01          0.77           NaN   \n",
      "4019      0.46      0.03       0.0         0.01          0.49           NaN   \n",
      "\n",
      "      Critic_Count User_Score  User_Count Developer Rating  \n",
      "262            NaN        NaN         NaN       NaN    NaN  \n",
      "5360           NaN        NaN         NaN       NaN    NaN  \n",
      "546            NaN        NaN         NaN       NaN    NaN  \n",
      "2650           NaN        NaN         NaN       NaN    NaN  \n",
      "4019           NaN        NaN         NaN       NaN    NaN  \n"
     ]
    }
   ],
   "source": [
    "df = pd.read_csv('/home/sanarip03/Downloads/video_games_sales.csv')\n",
    "df1 = df.sort_values(by=\"Year_of_Release\", ascending=True)\n",
    "print(df1.head(5))"
   ]
  },
  {
   "cell_type": "code",
   "execution_count": 73,
   "metadata": {},
   "outputs": [
    {
     "name": "stdout",
     "output_type": "stream",
     "text": [
      "2006.4873556231003\n"
     ]
    }
   ],
   "source": [
    "mean = df[\"Year_of_Release\"].mean()\n",
    "print(mean)"
   ]
  },
  {
   "cell_type": "code",
   "execution_count": 75,
   "metadata": {},
   "outputs": [
    {
     "name": "stdout",
     "output_type": "stream",
     "text": [
      "                                                  Name Platform  \\\n",
      "15879                                 Reine des Fleurs      PSV   \n",
      "15736                      Prototype: Biohazard Bundle      PS4   \n",
      "15735  Katekyoo Hitman Reborn! Kindan no Yami no Delta      PS2   \n",
      "15734                           Kimikare: New Semester      PSP   \n",
      "14104            Warhammer: The End Times - Vermintide      PS4   \n",
      "\n",
      "       Year_of_Release   Genre              Publisher  NA_Sales  EU_Sales  \\\n",
      "15879           2015.0  Action           Idea Factory      0.00      0.00   \n",
      "15736           2016.0  Action             Activision      0.01      0.00   \n",
      "15735           2008.0  Action  Marvelous Interactive      0.00      0.00   \n",
      "15734           2012.0  Action           Idea Factory      0.00      0.00   \n",
      "14104           2016.0  Action         Games Workshop      0.01      0.02   \n",
      "\n",
      "       JP_Sales  Other_Sales  Global_Sales  Critic_Score  Critic_Count  \\\n",
      "15879      0.02         0.00          0.02           NaN           NaN   \n",
      "15736      0.00         0.00          0.02          48.0           4.0   \n",
      "15735      0.02         0.00          0.02           NaN           NaN   \n",
      "15734      0.02         0.00          0.02           NaN           NaN   \n",
      "14104      0.00         0.01          0.04           NaN           NaN   \n",
      "\n",
      "      User_Score  User_Count              Developer Rating  \n",
      "15879        NaN         NaN                    NaN    NaN  \n",
      "15736          2        53.0  Radical Entertainment      M  \n",
      "15735        NaN         NaN                    NaN    NaN  \n",
      "15734        NaN         NaN                    NaN    NaN  \n",
      "14104        NaN         NaN                    NaN    NaN  \n"
     ]
    }
   ],
   "source": [
    "df = pd.read_csv('/home/sanarip03/Downloads/video_games_sales.csv')\n",
    "df1 = df.sort_values(by=\"Genre\", ascending=True)\n",
    "print(df1.head(5))"
   ]
  },
  {
   "cell_type": "code",
   "execution_count": null,
   "metadata": {},
   "outputs": [],
   "source": [
    "df = pd.read_csv('/home/sanarip03/Downloads/video_games_sales.csv')\n",
    "\n",
    "df1 = df[df[\"Publisher\"] == \"Sega\"]\n",
    "print(df1)"
   ]
  },
  {
   "cell_type": "code",
   "execution_count": null,
   "metadata": {},
   "outputs": [],
   "source": [
    "import pandas as pd\n",
    "df = pd.read_csv('/home/sanarip03/Downloads/video_games_sales.csv')\n",
    "\n",
    "df_ubisoft_sports = df[(df['Publisher'] == 'Ubisoft') & (df['Genre'] == 'Sports')]\n",
    "print(df_ubisoft_sports)"
   ]
  },
  {
   "cell_type": "code",
   "execution_count": null,
   "metadata": {},
   "outputs": [],
   "source": [
    "mx = df['EU_Sales'].max()\n",
    "game_name = df.loc[df['EU_Sales'] == mx, 'Name'].iloc[0]\n",
    "print(f\"{game_name}, {mx}\")"
   ]
  },
  {
   "cell_type": "code",
   "execution_count": null,
   "metadata": {},
   "outputs": [],
   "source": [
    "mx = df['Global_Sales'].max()\n",
    "mn = df['Global_Sales'].min()\n",
    "diff = mx - mn\n",
    "print(f\"{diff}\")"
   ]
  }
 ],
 "metadata": {
  "kernelspec": {
   "display_name": "Python 3.10.9 ('base')",
   "language": "python",
   "name": "python3"
  },
  "language_info": {
   "codemirror_mode": {
    "name": "ipython",
    "version": 3
   },
   "file_extension": ".py",
   "mimetype": "text/x-python",
   "name": "python",
   "nbconvert_exporter": "python",
   "pygments_lexer": "ipython3",
   "version": "3.10.9"
  },
  "orig_nbformat": 4,
  "vscode": {
   "interpreter": {
    "hash": "3c06e3e46abf38078fe4dac36a0085ec2b134ebbd73dd076183d243eeca6918f"
   }
  }
 },
 "nbformat": 4,
 "nbformat_minor": 2
}
